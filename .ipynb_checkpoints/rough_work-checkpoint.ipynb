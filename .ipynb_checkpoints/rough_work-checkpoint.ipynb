{
 "cells": [
  {
   "cell_type": "code",
   "execution_count": 450,
   "metadata": {},
   "outputs": [],
   "source": [
    "import antlr4\n",
    "import SQLiteParser\n",
    "import SQLiteLexer\n",
    "import SQLiteListener\n",
    "import sys"
   ]
  },
  {
   "cell_type": "code",
   "execution_count": 145,
   "metadata": {},
   "outputs": [],
   "source": [
    "# class MyListener(SQLiteListener.SQLiteListener):\n",
    "#     def enterSelect_stmt(self, ctx):\n",
    "#         print(\"Hello: %s\" % ctx.ID())\n",
    "        \n",
    "class MyListener(SQLiteListener.SQLiteListener):\n",
    "    def enterSelect_stmt(self, ctx):\n",
    "        print(ctx.select_stmt())"
   ]
  },
  {
   "cell_type": "code",
   "execution_count": 524,
   "metadata": {},
   "outputs": [],
   "source": [
    "#query = 'Select * from table'\n",
    "_input = antlr4.FileStream('query.sql')\n",
    "\n",
    "lexer = SQLiteLexer.SQLiteLexer(_input)\n",
    "\n",
    "stream = antlr4.CommonTokenStream(lexer)\n",
    "\n",
    "parser = SQLiteParser.SQLiteParser(stream)\n",
    "\n",
    "printer = MyListener()\n",
    "\n",
    "walker = antlr4.ParseTreeWalker()\n",
    "\n",
    "l = parser.sql_stmt_list()\n",
    "\n",
    "s = l.sql_stmt()"
   ]
  },
  {
   "cell_type": "code",
   "execution_count": 495,
   "metadata": {
    "scrolled": true
   },
   "outputs": [],
   "source": [
    "#walker.walk(printer, s)"
   ]
  },
  {
   "cell_type": "code",
   "execution_count": 525,
   "metadata": {},
   "outputs": [],
   "source": [
    "s0 = s[0]\n",
    "x = s0.children[0]\n",
    "x1 = x.select_core()[0]"
   ]
  },
  {
   "cell_type": "code",
   "execution_count": 527,
   "metadata": {},
   "outputs": [],
   "source": [
    "x1.result_column()[3].expr().table_name()"
   ]
  },
  {
   "cell_type": "code",
   "execution_count": 500,
   "metadata": {},
   "outputs": [
    {
     "data": {
      "text/plain": [
       "[<SQLiteParser.SQLiteParser.ExprContext at 0x2089ce54940>]"
      ]
     },
     "execution_count": 500,
     "metadata": {},
     "output_type": "execute_result"
    }
   ],
   "source": [
    "x1.result_column()[0].children"
   ]
  },
  {
   "cell_type": "code",
   "execution_count": 535,
   "metadata": {},
   "outputs": [],
   "source": [
    "a=x1.result_column()[5].expr()"
   ]
  },
  {
   "cell_type": "code",
   "execution_count": 568,
   "metadata": {},
   "outputs": [
    {
     "ename": "AttributeError",
     "evalue": "'NoneType' object has no attribute 'children'",
     "output_type": "error",
     "traceback": [
      "\u001b[1;31m---------------------------------------------------------------------------\u001b[0m",
      "\u001b[1;31mAttributeError\u001b[0m                            Traceback (most recent call last)",
      "\u001b[1;32m<ipython-input-568-a4a05da203c0>\u001b[0m in \u001b[0;36m<module>\u001b[1;34m()\u001b[0m\n\u001b[1;32m----> 1\u001b[1;33m \u001b[0mq\u001b[0m\u001b[1;33m=\u001b[0m\u001b[0mx1\u001b[0m\u001b[1;33m.\u001b[0m\u001b[0mresult_column\u001b[0m\u001b[1;33m(\u001b[0m\u001b[1;33m)\u001b[0m\u001b[1;33m[\u001b[0m\u001b[1;36m2\u001b[0m\u001b[1;33m]\u001b[0m\u001b[1;33m.\u001b[0m\u001b[0mcolumn_alias\u001b[0m\u001b[1;33m(\u001b[0m\u001b[1;33m)\u001b[0m\u001b[1;33m.\u001b[0m\u001b[0mchildren\u001b[0m\u001b[1;33m[\u001b[0m\u001b[1;36m0\u001b[0m\u001b[1;33m]\u001b[0m\u001b[1;33m\u001b[0m\u001b[0m\n\u001b[0m",
      "\u001b[1;31mAttributeError\u001b[0m: 'NoneType' object has no attribute 'children'"
     ]
    }
   ],
   "source": [
    "q=x1.result_column()[2].column_alias().children[0]"
   ]
  },
  {
   "cell_type": "code",
   "execution_count": 567,
   "metadata": {},
   "outputs": [
    {
     "data": {
      "text/plain": [
       "'x'"
      ]
     },
     "execution_count": 567,
     "metadata": {},
     "output_type": "execute_result"
    }
   ],
   "source": [
    "q.getText()"
   ]
  },
  {
   "cell_type": "code",
   "execution_count": 504,
   "metadata": {},
   "outputs": [
    {
     "data": {
      "text/plain": [
       "'as'"
      ]
     },
     "execution_count": 504,
     "metadata": {},
     "output_type": "execute_result"
    }
   ],
   "source": [
    "x1.result_column()[1].children[1].getText()"
   ]
  },
  {
   "cell_type": "code",
   "execution_count": 591,
   "metadata": {},
   "outputs": [],
   "source": [
    "def infer_table_from_col_name(src_col_name, table_cols_dict, suppress_errors=False):\n",
    "    col_already_seen = False\n",
    "    target_table_name = None\n",
    "    for table_name, col_name_list in table_cols_dict.items():\n",
    "        for name in col_name_list:\n",
    "            if name == src_col_name:\n",
    "                if col_already_seen:\n",
    "                    error_msg = 'Ambiguous column name. Same column name is found in both tables and requires a prefix.'\n",
    "                    if suppress_errors:\n",
    "                        target_table_name = None\n",
    "                        print(error_msg, file=sys.stderr)\n",
    "                    else:\n",
    "                        raise ValueError(error_msg)\n",
    "                else:\n",
    "                    target_table_name = table_name\n",
    "                    col_already_seen = True\n",
    "                    break\n",
    "    if target_table_name is None:\n",
    "        if not suppress_errors:\n",
    "            raise ValueError('Column not found in tables.')\n",
    "    return target_table_name\n",
    "\n",
    "def _full_name_from_table_name(table_name_ctx, table_alias_dict):\n",
    "    table_name = table_name_ctx.getText()\n",
    "    try:\n",
    "        table_name_full = table_alias_dict[table_name]\n",
    "    except KeyError:\n",
    "        table_name_full = table_name\n",
    "        \n",
    "    return table_name_full\n",
    "\n",
    "def _table_name_from_result_col_objs(table_name_ctx, column_name_ctx, table_cols_dict):\n",
    "    table_name_full = None\n",
    "    if table_name_ctx is None:\n",
    "        if column_name_ctx is not None:\n",
    "            table_name_full = infer_table_from_col_name(column_name_ctx, table_cols_dict, suppress_errors=False)\n",
    "    else:\n",
    "        table_name_full = _full_name_from_table_name(table_name_ctx, table_alias_dict)\n",
    "    \n",
    "    return table_name_full"
   ]
  },
  {
   "cell_type": "code",
   "execution_count": 572,
   "metadata": {},
   "outputs": [],
   "source": [
    "def _alias_from_result_col_ctx(result_col_ctx):\n",
    "    alias_ctx = result_col_ctx.column_alias()\n",
    "    if alias_ctx is not None:\n",
    "        return alias_ctx.getText()"
   ]
  },
  {
   "cell_type": "code",
   "execution_count": 574,
   "metadata": {},
   "outputs": [],
   "source": [
    "_alias_from_result_col_ctx(x1.result_column()[2])"
   ]
  },
  {
   "cell_type": "code",
   "execution_count": 603,
   "metadata": {},
   "outputs": [],
   "source": [
    "# need to deal with expressions involving more than one column\n",
    "def parse_column_identifier(result_col_ctx, table_alias_dict, table_cols_dict):\n",
    "    alias = _alias_from_result_col_ctx(result_col_ctx) \n",
    "    expr = result_col_ctx.expr()\n",
    "    table_name = expr.table_name()\n",
    "    column_name = expr.column_name()\n",
    "    if column_name is not None:\n",
    "        column_name = column_name.getText()\n",
    "    table_name_full = _table_name_from_result_col_objs(table_name, column_name, table_cols_dict)\n",
    "    return {'type':'identifier', 'variant':'column', 'name':column_name, 'alias':alias, 'table_name':table_name_full}"
   ]
  },
  {
   "cell_type": "code",
   "execution_count": 604,
   "metadata": {},
   "outputs": [],
   "source": [
    "table_alias_dict = {'m':'mytable'}\n",
    "table_cols_dict = {'mytable':['col1', 'col2', 'col3', 'col4', 'col5', 'col6', 'col7']}"
   ]
  },
  {
   "cell_type": "code",
   "execution_count": 606,
   "metadata": {},
   "outputs": [
    {
     "name": "stdout",
     "output_type": "stream",
     "text": [
      "col7asz\n"
     ]
    },
    {
     "data": {
      "text/plain": [
       "{'type': 'identifier',\n",
       " 'variant': 'column',\n",
       " 'name': 'col7',\n",
       " 'alias': 'z',\n",
       " 'table_name': 'mytable'}"
      ]
     },
     "execution_count": 606,
     "metadata": {},
     "output_type": "execute_result"
    }
   ],
   "source": [
    "x2 = x1.result_column()[5]\n",
    "print(x2.getText())\n",
    "parse_column_identifier(x2, table_alias_dict, table_cols_dict)"
   ]
  },
  {
   "cell_type": "code",
   "execution_count": 216,
   "metadata": {},
   "outputs": [],
   "source": [
    "x3 = x2.expr()"
   ]
  },
  {
   "cell_type": "code",
   "execution_count": 234,
   "metadata": {},
   "outputs": [],
   "source": [
    "x4 = x3.expr()[1]"
   ]
  },
  {
   "cell_type": "code",
   "execution_count": 284,
   "metadata": {},
   "outputs": [],
   "source": [
    "x5 = x4.children[0]"
   ]
  },
  {
   "cell_type": "code",
   "execution_count": 289,
   "metadata": {
    "scrolled": true
   },
   "outputs": [
    {
     "data": {
      "text/plain": [
       "<antlr4.tree.Tree.TerminalNodeImpl at 0x2089ce43b70>"
      ]
     },
     "execution_count": 289,
     "metadata": {},
     "output_type": "execute_result"
    }
   ],
   "source": [
    "x5.children[0]"
   ]
  },
  {
   "cell_type": "code",
   "execution_count": 210,
   "metadata": {
    "scrolled": true
   },
   "outputs": [
    {
     "data": {
      "text/plain": [
       "<SQLiteParser.SQLiteParser.Column_aliasContext at 0x2089cc954e0>"
      ]
     },
     "execution_count": 210,
     "metadata": {},
     "output_type": "execute_result"
    }
   ],
   "source": [
    "x2.column_alias()"
   ]
  },
  {
   "cell_type": "code",
   "execution_count": 265,
   "metadata": {},
   "outputs": [],
   "source": [
    "table = x1.table_or_subquery()[0]"
   ]
  },
  {
   "cell_type": "code",
   "execution_count": 268,
   "metadata": {},
   "outputs": [
    {
     "data": {
      "text/plain": [
       "<SQLiteParser.SQLiteParser.Table_nameContext at 0x2089ce9aba8>"
      ]
     },
     "execution_count": 268,
     "metadata": {},
     "output_type": "execute_result"
    }
   ],
   "source": [
    "table.table_name()"
   ]
  },
  {
   "cell_type": "code",
   "execution_count": 5,
   "metadata": {},
   "outputs": [],
   "source": [
    "!java -Xmx500M -cp \"C:\\Users\\Kevin\\Anaconda3\\pkgs\\antlr-4.7.1-0\\Library\\lib\\antlr4-4.7.1-complete.jar\" org.antlr.v4.Tool -Dlanguage=Python3 SQLite.g4"
   ]
  },
  {
   "cell_type": "code",
   "execution_count": 3,
   "metadata": {
    "scrolled": true
   },
   "outputs": [],
   "source": [
    "# ! antlr4 -Dlanguage=Python3 SQLite.g4"
   ]
  },
  {
   "cell_type": "code",
   "execution_count": null,
   "metadata": {},
   "outputs": [],
   "source": []
  }
 ],
 "metadata": {
  "kernelspec": {
   "display_name": "Python [default]",
   "language": "python",
   "name": "python3"
  },
  "language_info": {
   "codemirror_mode": {
    "name": "ipython",
    "version": 3
   },
   "file_extension": ".py",
   "mimetype": "text/x-python",
   "name": "python",
   "nbconvert_exporter": "python",
   "pygments_lexer": "ipython3",
   "version": "3.6.4"
  },
  "toc": {
   "nav_menu": {},
   "number_sections": false,
   "sideBar": true,
   "skip_h1_title": false,
   "title_cell": "Table of Contents",
   "title_sidebar": "Contents",
   "toc_cell": false,
   "toc_position": {},
   "toc_section_display": true,
   "toc_window_display": false
  }
 },
 "nbformat": 4,
 "nbformat_minor": 2
}
